{
 "cells": [
  {
   "cell_type": "markdown",
   "metadata": {},
   "source": [
    "## DOCUMENTACIÓN: ANÁLISIS EXPLORATORIO DE DATOS - HOTELES"
   ]
  },
  {
   "cell_type": "markdown",
   "metadata": {},
   "source": [
    "## Revisión inicial de los datos \n",
    "\n",
    "Al observar con detenimiento las columnas podemos apreciar dos tipos de columnas: \n",
    "\n",
    "|       Columnas Numéricas      |     Columnas Categóricas     |\n",
    "|-------------------------------|------------------------------|\n",
    "| lead_time                     | hotel                        |\n",
    "| arrival_date_year             | is_canceled                  |\n",
    "| arrival_date_week_number      | arrival_date_month           |\n",
    "| arrival_date_day_of_month     | meal                         |\n",
    "| stays_in_weekend_nights       | country                      |\n",
    "| stays_in_week_nights          | market_segment               |\n",
    "| adults                        | distribution_channel         |\n",
    "| children                      | reserved_room_type           |\n",
    "| babies                        | assigned_room_type           |\n",
    "| is_repeated_guest             | customer_type                |\n",
    "| previous_cancellations        | reservation_status           |\n",
    "| previous_bookings_not_canceled| reservation_status_date      |\n",
    "| booking_changes               |                              |\n",
    "| agent                         |                              |\n",
    "| company                       |                              |\n",
    "| days_in_waiting_list          |                              |\n",
    "| adr                           |                              |\n",
    "| required_car_parking_spaces   |                              |\n",
    "| total_of_special_requests     |                              |"
   ]
  },
  {
   "cell_type": "markdown",
   "metadata": {},
   "source": [
    "Además, de su clasificaicón por tipo:\n",
    "|     Columnas Integer     |       Columnas Object       |\n",
    "|--------------------------|-----------------------------|\n",
    "| lead_time                | hotel                       |\n",
    "| arrival_date_year        | is_canceled                 |\n",
    "| arrival_date_week_number | arrival_date_month          |\n",
    "| arrival_date_day_of_month| meal                        |\n",
    "| stays_in_weekend_nights  | country                     |\n",
    "| stays_in_week_nights     | market_segment              |\n",
    "| adults                   | distribution_channel        |\n",
    "| children                 | reserved_room_type          |\n",
    "| babies                   | assigned_room_type          |\n",
    "| is_repeated_guest        | customer_type               |\n",
    "| previous_cancellations   | reservation_status          |\n",
    "| previous_bookings_not_canceled | reservation_status_date |\n",
    "| booking_changes          | 0                           |\n",
    "| agent                    |                             |\n",
    "| company                  |                             |\n",
    "| days_in_waiting_list     |                             |\n",
    "| adr                      |                             |\n",
    "| required_car_parking_spaces |                         |\n",
    "| total_of_special_requests|                             |\n"
   ]
  },
  {
   "cell_type": "markdown",
   "metadata": {},
   "source": [
    "## Detalles de las columnas\n",
    "\n",
    "En esta tabla, observaremos las columnas con una breve descripción y la modificación necesaria:\n",
    "\n",
    "| Columna                       | Descripción                                                                     | Modificación |\n",
    "|-------------------------------|---------------------------------------------------------------------------------|--------------|\n",
    "| hotel                         | Tipo de hotel                                                                   |      ✅      |\n",
    "| is_canceled                   | Indica si la reserva fue cancelada (True) o no (False)                          |      ✅     |\n",
    "| lead_time                     | Número de días entre la fecha de reserva y la fecha de llegada al hotel         |      ✅     |\n",
    "| arrival_date_year             | Año de llegada al hotel                                                         |              |\n",
    "| arrival_date_month            | Mes de llegada al hotel                                                         |              |\n",
    "| arrival_date_week_number      | Número de la semana de llegada al hotel                                         |      ✅     |\n",
    "| arrival_date_day_of_month     | Día del mes de llegada al hotel                                                 |              |\n",
    "| stays_in_weekend_nights       | Número de noches que el cliente se quedó durante el fin de semana               |   ✅ Redondear  |\n",
    "| stays_in_week_nights          | Número de noches que el cliente se quedó durante la semana                      |   ✅ Redondear  |\n",
    "| adults                        | Número de adultos que acompañaban al cliente en la reserva                      |              |\n",
    "| children                      | Número de niños que acompañaban al cliente en la reserva                        |      ✅     |\n",
    "| babies                        | Número de bebés que acompañaban al cliente en la reserva                        |      ✅      |\n",
    "| meal                          | Tipo de comida incluida en la reserva (BB: Desayuno, HB: Media Pensión, FB: Pensión Completa) |              |\n",
    "| country                       | País de origen del cliente                                                      |              |\n",
    "| market_segment                | Segmento de mercado al que pertenece la reserva                                 |     ✅         |\n",
    "| distribution_channel          | Canal de distribución utilizado para realizar la reserva                        |     ✅         |\n",
    "| is_repeated_guest             | Indica si el cliente es un huésped repetido (1) o no (0)                        | Cambiar a booleano True/False       |\n",
    "| previous_cancellations        | Número de reservas canceladas por el cliente antes de esta reserva              |     ✅       |\n",
    "| previous_bookings_not_canceled| Número de reservas no canceladas por el cliente antes de esta reserva           |     ✅       |\n",
    "| reserved_room_type            | Tipo de habitación reservada                                                    |              |\n",
    "| assigned_room_type            | Tipo de habitación asignada en la reserva                                       |           |\n",
    "| booking_changes               | Número de cambios realizados en la reserva                                      |     ✅      |\n",
    "| agent                         | Identificador del agente involucrado en la reserva                              |     ✅      |\n",
    "| company                       | Identificador de la compañía involucrada en la reserva                          |      ✅     |\n",
    "| days_in_waiting_list          | Número de días que la reserva estuvo en lista de espera                         |       ✅    |\n",
    "| customer_type                 | Tipo de cliente que realizó la reserva (Transient, Contract, Group, Transient-Party) |              |\n",
    "| adr                           | Tarifa promedio diaria pagada por la reserva                                     |  ✅ Gestión datos negativos           |\n",
    "| required_car_parking_spaces   | Número de espacios de estacionamiento requeridos por el cliente                  |              |\n",
    "| total_of_special_requests     | Número total de solicitudes especiales realizadas por el cliente                 |              |\n",
    "| reservation_status            | Estado de la reserva (Check-Out: Salida, Canceled: Cancelada)                    |              |\n",
    "| reservation_status_date       | Fecha del estado de la reserva                                                   |  ✅ Convertida a datetime            |\n",
    " 0      |                                       --            | ✅   Columna eliminada |"
   ]
  },
  {
   "cell_type": "markdown",
   "metadata": {},
   "source": [
    "# Pasos del EDA, realizados:\n",
    "1. Eliminación de duplicados, siendo 63040.\n",
    "2. Conversión en la columna \"adr\", en una fila hay un dato negativo \"-6.38\", lo convertimos a Nan\n",
    "3. Redondeamos los datos de las columnas \"stays_in_week_nights\", \"stays_in_weekend_nights\"\n",
    "4. Modificación de datos en la columna \"arrival_date_month\", unificación de tipo de datos.\n",
    "5. Renombrar nombre de las columnas\n",
    "6. Eliminación de la columna \"0\"\n",
    "7. Eliminación de las filas en las cuales todos sus datos eran \"Nan\"\n",
    "8. Convertir la columna \"status_date\" a datetime.\n",
    "9. Verificar duplicados y eliminación de ellos.\n",
    "10. Verificar nulos\n",
    "11. Modificación de las columnas con datos \"Nan\" a \"Desconocido\" de las \"lista_columnas\".\n",
    "12. Redondear los datos de las columnas seleccionadas(lista_redondear)"
   ]
  },
  {
   "cell_type": "markdown",
   "metadata": {},
   "source": [
    "# GUION PRESENTACION:\n",
    "\n",
    "## DASHBOARD 1 (vision general de nuestros clientes) BEA\n",
    "    - Demógrafico de los tipos de clientes que vienen al hotel (origen, niños, bebes, parking...) filtrado por: hotel1 / hotel2 / ambos hoteles\n",
    "    - reservas canceladas totales (quesito?)\n",
    "    - Timeline de reservas y cancelaciones (gráfico de líneas) \n",
    "## DASHBOARD 2 (Patrón encontrado: origen de los cancelados) SAIRA\n",
    "    - Top 10 de lead_time/origen (conclusion: los portugueses con lead time de 10-12 meses cancelan micho)\n",
    "    - grafias comparativas paises\n",
    "    - time line de las cancelaciones segun lead time de los portugueses? de los top 3 paises que mas cancelan?\n",
    "## DASHBOARD 3 (Patrón encontrado: problema con las reservas realizadas mediante agentes) INES\n",
    "    - un porcentaje muy alto de las reservas realizadas con agente se acaban cancelado\n",
    "## DASHBOARD 4 (Patrón encontrado: los tipos de gente que viene al hotel, un poco detalles random encontrados) ALEJANDRA\n",
    "    - los que reservan parking nunca cancelan\n",
    "    - no vienen casi bebes ni niños\n",
    "## DASHBOARD 5 (Conclusiones finales)\n",
    "    - Hay muchas cancelaciones en general (la norma es de 5 a 15%) \n",
    "        - Algo sucede con los portugueses con lead time de 10-12 meses en concreto (cancelan casi todos)\n",
    "    - No parece que sea un destino atractivo para niños y bebes\n",
    "    - El parking es un importante atractivo (¿quizá el resto de hoteles no tiene aparcamiento por eso los que lo necesitan nunca cancelan?)\n",
    "    - Algo sucede con los agentes (¿quizá cobran segun reservas sin tener en cuenta si finalmente se cancelan?)\n",
    "\n"
   ]
  }
 ],
 "metadata": {
  "language_info": {
   "name": "python"
  }
 },
 "nbformat": 4,
 "nbformat_minor": 2
}
