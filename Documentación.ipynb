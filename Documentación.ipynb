{
 "cells": [
  {
   "cell_type": "markdown",
   "metadata": {},
   "source": [
    "## DOCUMENTACIÓN: ANÁLISIS EXPLORATORIO DE DATOS - HOTELES"
   ]
  },
  {
   "cell_type": "markdown",
   "metadata": {},
   "source": [
    "## Revisión inicial de los datos \n",
    "\n",
    "Al observar con detenimiento las columnas podemos apreciar dos tipos de columnas: \n",
    "\n",
    "|       Columnas Numéricas      |     Columnas Categóricas     |\n",
    "|-------------------------------|------------------------------|\n",
    "| lead_time                     | hotel                        |\n",
    "| arrival_date_year             | is_canceled                  |\n",
    "| arrival_date_week_number      | arrival_date_month           |\n",
    "| arrival_date_day_of_month     | meal                         |\n",
    "| stays_in_weekend_nights       | country                      |\n",
    "| stays_in_week_nights          | market_segment               |\n",
    "| adults                        | distribution_channel         |\n",
    "| children                      | reserved_room_type           |\n",
    "| babies                        | assigned_room_type           |\n",
    "| is_repeated_guest             | customer_type                |\n",
    "| previous_cancellations        | reservation_status           |\n",
    "| previous_bookings_not_canceled| reservation_status_date      |\n",
    "| booking_changes               |                              |\n",
    "| agent                         |                              |\n",
    "| company                       |                              |\n",
    "| days_in_waiting_list          |                              |\n",
    "| adr                           |                              |\n",
    "| required_car_parking_spaces   |                              |\n",
    "| total_of_special_requests     |                              |"
   ]
  },
  {
   "cell_type": "markdown",
   "metadata": {},
   "source": [
    "Además, de su clasificaicón por tipo:\n",
    "|     Columnas Integer     |       Columnas Object       |\n",
    "|--------------------------|-----------------------------|\n",
    "| lead_time                | hotel                       |\n",
    "| arrival_date_year        | is_canceled                 |\n",
    "| arrival_date_week_number | arrival_date_month          |\n",
    "| arrival_date_day_of_month| meal                        |\n",
    "| stays_in_weekend_nights  | country                     |\n",
    "| stays_in_week_nights     | market_segment              |\n",
    "| adults                   | distribution_channel        |\n",
    "| children                 | reserved_room_type          |\n",
    "| babies                   | assigned_room_type          |\n",
    "| is_repeated_guest        | customer_type               |\n",
    "| previous_cancellations   | reservation_status          |\n",
    "| previous_bookings_not_canceled | reservation_status_date |\n",
    "| booking_changes          | 0                           |\n",
    "| agent                    |                             |\n",
    "| company                  |                             |\n",
    "| days_in_waiting_list     |                             |\n",
    "| adr                      |                             |\n",
    "| required_car_parking_spaces |                         |\n",
    "| total_of_special_requests|                             |\n"
   ]
  },
  {
   "cell_type": "markdown",
   "metadata": {},
   "source": [
    "## Detalles de las columnas\n",
    "\n",
    "En esta tabla, observaremos las columnas con una breve descripción y la modificación necesaria:\n",
    "\n",
    "| Columna                       | Descripción                                                                     | Modificación |\n",
    "|-------------------------------|---------------------------------------------------------------------------------|--------------|\n",
    "| hotel                         | Tipo de hotel                                                                   |      ✅      |\n",
    "| is_canceled                   | Indica si la reserva fue cancelada (True) o no (False)                          |      ✅     |\n",
    "| lead_time                     | Número de días entre la fecha de reserva y la fecha de llegada al hotel         |      ✅     |\n",
    "| arrival_date_year             | Año de llegada al hotel                                                         |              |\n",
    "| arrival_date_month            | Mes de llegada al hotel                                                         |              |\n",
    "| arrival_date_week_number      | Número de la semana de llegada al hotel                                         |      ✅     |\n",
    "| arrival_date_day_of_month     | Día del mes de llegada al hotel                                                 |              |\n",
    "| stays_in_weekend_nights       | Número de noches que el cliente se quedó durante el fin de semana               |   ✅ Redondear  |\n",
    "| stays_in_week_nights          | Número de noches que el cliente se quedó durante la semana                      |   ✅ Redondear  |\n",
    "| adults                        | Número de adultos que acompañaban al cliente en la reserva                      |              |\n",
    "| children                      | Número de niños que acompañaban al cliente en la reserva                        |      ✅     |\n",
    "| babies                        | Número de bebés que acompañaban al cliente en la reserva                        |      ✅      |\n",
    "| meal                          | Tipo de comida incluida en la reserva (BB: Desayuno, HB: Media Pensión, FB: Pensión Completa) |              |\n",
    "| country                       | País de origen del cliente                                                      |              |\n",
    "| market_segment                | Segmento de mercado al que pertenece la reserva                                 |              |\n",
    "| distribution_channel          | Canal de distribución utilizado para realizar la reserva                        |              |\n",
    "| is_repeated_guest             | Indica si el cliente es un huésped repetido (1) o no (0)                        | Cambiar a booleano True/False       |\n",
    "| previous_cancellations        | Número de reservas canceladas por el cliente antes de esta reserva              |     ✅       |\n",
    "| previous_bookings_not_canceled| Número de reservas no canceladas por el cliente antes de esta reserva           |     ✅       |\n",
    "| reserved_room_type            | Tipo de habitación reservada                                                    |              |\n",
    "| assigned_room_type            | Tipo de habitación asignada en la reserva                                       |           |\n",
    "| booking_changes               | Número de cambios realizados en la reserva                                      |     ✅      |\n",
    "| agent                         | Identificador del agente involucrado en la reserva                              |     ✅      |\n",
    "| company                       | Identificador de la compañía involucrada en la reserva                          |      ✅     |\n",
    "| days_in_waiting_list          | Número de días que la reserva estuvo en lista de espera                         |       ✅    |\n",
    "| customer_type                 | Tipo de cliente que realizó la reserva (Transient, Contract, Group, Transient-Party) |              |\n",
    "| adr                           | Tarifa promedio diaria pagada por la reserva                                     |  ✅ Gestión datos negativos           |\n",
    "| required_car_parking_spaces   | Número de espacios de estacionamiento requeridos por el cliente                  |              |\n",
    "| total_of_special_requests     | Número total de solicitudes especiales realizadas por el cliente                 |              |\n",
    "| reservation_status            | Estado de la reserva (Check-Out: Salida, Canceled: Cancelada)                    |              |\n",
    "| reservation_status_date       | Fecha del estado de la reserva                                                   |  Convertir a datestamp            |\n",
    " 0      |                                                   | ✅   Columna eliminada |"
   ]
  },
  {
   "cell_type": "markdown",
   "metadata": {},
   "source": [
    "# Pasos del EDA, realizados:\n",
    "1. Eliminar duplicados, siendo 63040.\n",
    "2. Conversión en la columna \"adr\", en una fila hay un dato negativo \"-6.38\", lo convertimos a Nan\n",
    "3. Redondeamos los datos de las columnas \"stays_in_week_nights\", \"stays_in_weekend_nights\"\n",
    "4. Modificación de datos en la columna \"arrival_date_month\", unificación de tipo de datos.\n",
    "5. Renombrar nombre de las columnas\n",
    "6. Eliminación de la columna \"0\"\n",
    "7. Eliminacion de las filas en las cuales todos sus datos eran \"Nan\"\n",
    "\n",
    "\n",
    "8. Convertir datime a \n",
    "9. ver duplicados y nulos"
   ]
  }
 ],
 "metadata": {
  "language_info": {
   "name": "python"
  }
 },
 "nbformat": 4,
 "nbformat_minor": 2
}
